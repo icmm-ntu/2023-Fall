{
 "cells": [
  {
   "cell_type": "code",
   "execution_count": 6,
   "id": "8a9c8fd5",
   "metadata": {},
   "outputs": [
    {
     "name": "stdout",
     "output_type": "stream",
     "text": [
      "What is your name? CH\n",
      "Hello, CH.\n",
      "Hello, World.\n",
      "Good night, World.\n"
     ]
    }
   ],
   "source": [
    "name = input(\"What is your name? \")# Read data from user\n",
    "print (\"Hello, %s.\" % name)\n",
    "#=====\n",
    "name = 'World'#define data here \n",
    "print (\"Hello, %s.\" % name)\n",
    "#use number sign for single-line comment\n",
    "\"\"\"\n",
    "multi-line comments\n",
    "\"\"\"\n",
    "print (\"Good night, %s.\" % name)"
   ]
  },
  {
   "cell_type": "code",
   "execution_count": 15,
   "id": "6521b5ee",
   "metadata": {},
   "outputs": [
    {
     "name": "stdout",
     "output_type": "stream",
     "text": [
      "2023-09-14 12:56:17.653420\n",
      "Current date and time:\n",
      "Current year: 2023\n",
      "Current month: 9\n",
      "Current day: 14\n",
      "Current hour: 12\n",
      "Current minute: 56\n",
      "Current second: 17\n"
     ]
    }
   ],
   "source": [
    "import datetime as dt # import datetime module, call it \"dt\"\n",
    "now = dt.datetime.now() #submodule\n",
    "print (now)\n",
    "print (\"Current date and time:\")\n",
    "print (\"Current year: %d\" % now.year)\n",
    "print (\"Current month: %d\" % now.month)\n",
    "print (\"Current day: %d\" % now.day)\n",
    "print (\"Current hour: %d\" % now.hour)\n",
    "print (\"Current minute: %d\" % now.minute)\n",
    "print (\"Current second: %d\" % now.second)\n"
   ]
  },
  {
   "cell_type": "code",
   "execution_count": 35,
   "id": "8a295514",
   "metadata": {},
   "outputs": [
    {
     "name": "stdout",
     "output_type": "stream",
     "text": [
      "123.456\n",
      "<class 'str'>\n"
     ]
    },
    {
     "data": {
      "text/plain": [
       "'123.456123.456'"
      ]
     },
     "execution_count": 35,
     "metadata": {},
     "output_type": "execute_result"
    }
   ],
   "source": [
    "a = \"123.456\"\n",
    "print (a)\n",
    "print (type(a))\n",
    "a+a"
   ]
  },
  {
   "cell_type": "code",
   "execution_count": 36,
   "id": "b7f04200",
   "metadata": {},
   "outputs": [
    {
     "name": "stdout",
     "output_type": "stream",
     "text": [
      "123.456\n",
      "<class 'float'>\n"
     ]
    },
    {
     "data": {
      "text/plain": [
       "246.912"
      ]
     },
     "execution_count": 36,
     "metadata": {},
     "output_type": "execute_result"
    }
   ],
   "source": [
    "b = float(a)\n",
    "print(b)\n",
    "print (type(b))\n",
    "b+b"
   ]
  },
  {
   "cell_type": "code",
   "execution_count": 37,
   "id": "153a3c47",
   "metadata": {},
   "outputs": [
    {
     "name": "stdout",
     "output_type": "stream",
     "text": [
      "a + b =  5\n",
      "a + b = 5\n"
     ]
    }
   ],
   "source": [
    "a = 2\n",
    "b = 3\n",
    "c = a + b \n",
    "print (\"a + b = \", c)\n",
    "print (\"a + b = %d\"%(c))\n",
    "\n"
   ]
  },
  {
   "cell_type": "code",
   "execution_count": 38,
   "id": "282ff4b6",
   "metadata": {},
   "outputs": [
    {
     "name": "stdout",
     "output_type": "stream",
     "text": [
      "a * b =  6\n",
      "a * b = 6\n"
     ]
    }
   ],
   "source": [
    "#=====\n",
    "d = a * b # 2*3\n",
    "print (\"a * b = \", d)\n",
    "print (\"a * b = %d\"%(d))\n"
   ]
  },
  {
   "cell_type": "code",
   "execution_count": 41,
   "id": "73e9ea60",
   "metadata": {},
   "outputs": [
    {
     "name": "stdout",
     "output_type": "stream",
     "text": [
      "a / b = 0.6666666666666666\n",
      "a * b = 0.67\n"
     ]
    }
   ],
   "source": [
    "#=====\n",
    "e = a / b #2/3=0.66667\n",
    "print (\"a / b =\", e)\n",
    "print (\"a * b = %.2f\"%(e))\n"
   ]
  },
  {
   "cell_type": "code",
   "execution_count": 42,
   "id": "b55e66b1",
   "metadata": {},
   "outputs": [
    {
     "name": "stdout",
     "output_type": "stream",
     "text": [
      "2/3 =  0.6666666666666666\n",
      "2/3 =  0.6666666666666666\n"
     ]
    }
   ],
   "source": [
    "#=====\n",
    "print (\"2/3 = \", 2/3) # becareful 2/3 gives you 0 in python2\n",
    "print (\"2/3 = \", 2.0/3.0) # print 0.666666666667\n",
    "\n"
   ]
  },
  {
   "cell_type": "code",
   "execution_count": 48,
   "id": "5878cb54",
   "metadata": {},
   "outputs": [
    {
     "name": "stdout",
     "output_type": "stream",
     "text": [
      "3^2 = 27.00\n",
      "3^2 = 27.00\n",
      "3^2 = 27.00\n"
     ]
    }
   ],
   "source": [
    "print (\"3^2 = %.2f\"%(3.*3.*3.))\n",
    "\n",
    "print (\"3^2 = %.2f\"%(pow(3.,3.)))\n",
    "\n",
    "print (\"3^2 = %.2f\"%(3 ** 3))\n",
    "\n",
    "\n",
    "^\n",
    "\n",
    "\n",
    "\n"
   ]
  },
  {
   "cell_type": "code",
   "execution_count": 49,
   "id": "00492835",
   "metadata": {},
   "outputs": [
    {
     "name": "stdout",
     "output_type": "stream",
     "text": [
      " a & b =  12\n"
     ]
    }
   ],
   "source": [
    "a = 60            # 60 = 0011 1100 \n",
    "b = 13            # 13 = 0000 1101 \n",
    "c = 0\n",
    "\n",
    "c = a & b;        # 12 = 0000 1100\n",
    "print (\" a & b = \", c)\n",
    "\n"
   ]
  },
  {
   "cell_type": "code",
   "execution_count": 50,
   "id": "b325ff42",
   "metadata": {},
   "outputs": [
    {
     "name": "stdout",
     "output_type": "stream",
     "text": [
      "a | b =  61\n"
     ]
    }
   ],
   "source": [
    "c = a | b;        # 61 = 0011 1101 \n",
    "print (\"a | b = \", c)"
   ]
  },
  {
   "cell_type": "code",
   "execution_count": 51,
   "id": "b304c408",
   "metadata": {},
   "outputs": [
    {
     "name": "stdout",
     "output_type": "stream",
     "text": [
      "a ^ b =  49\n"
     ]
    }
   ],
   "source": [
    "c = a ^ b;        # 49 = 0011 0001\n",
    "print (\"a ^ b = \", c)"
   ]
  },
  {
   "cell_type": "code",
   "execution_count": 52,
   "id": "b0ecaa31",
   "metadata": {},
   "outputs": [
    {
     "name": "stdout",
     "output_type": "stream",
     "text": [
      "~a  =  -61\n"
     ]
    }
   ],
   "source": [
    "c = ~a;           # -61 = 1100 0011\n",
    "print (\"~a  = \", c)"
   ]
  },
  {
   "cell_type": "code",
   "execution_count": 54,
   "id": "1595d039",
   "metadata": {},
   "outputs": [
    {
     "name": "stdout",
     "output_type": "stream",
     "text": [
      "1.125\n",
      "Kinectic energy is 1.125 J\n"
     ]
    }
   ],
   "source": [
    "import numpy as np\n",
    "mass = 1. #kg\n",
    "velocity = 1.5 #m/s\n",
    "KE = 0.5 * mass * velocity **2.\n",
    "print (KE)\n",
    "print (\"Kinectic energy is %.3f J\"%(KE))\n"
   ]
  },
  {
   "cell_type": "code",
   "execution_count": 55,
   "id": "0600efe1",
   "metadata": {},
   "outputs": [
    {
     "name": "stdout",
     "output_type": "stream",
     "text": [
      "0.25\n",
      "Kinectic energy is 0.250 J\n"
     ]
    }
   ],
   "source": [
    "mass = 2. #kg\n",
    "velocity = 0.5 #m/s\n",
    "KE = 0.5 * mass * velocity **2.\n",
    "print (KE)\n",
    "print (\"Kinectic energy is %.3f J\"%(KE))"
   ]
  },
  {
   "cell_type": "code",
   "execution_count": 58,
   "id": "675c9f32",
   "metadata": {},
   "outputs": [
    {
     "name": "stdout",
     "output_type": "stream",
     "text": [
      "Kinectic energy is 0.125 J\n",
      "Kinectic energy is 6.250 J\n"
     ]
    }
   ],
   "source": [
    "def ComputeKE(m,v):\n",
    "    KE = 0.5 * m * v**2.\n",
    "    return KE\n",
    "\n",
    "KE = ComputeKE(1.,0.5)\n",
    "print (\"Kinectic energy is %.3f J\"%(KE))\n",
    "\n",
    "KE = ComputeKE(2.,2.5)\n",
    "print (\"Kinectic energy is %.3f J\"%(KE))"
   ]
  },
  {
   "cell_type": "code",
   "execution_count": 66,
   "id": "aa246fc8",
   "metadata": {},
   "outputs": [
    {
     "name": "stdout",
     "output_type": "stream",
     "text": [
      "[0.125 6.25 ]\n"
     ]
    }
   ],
   "source": [
    "mass_arr = np.array([1., 2.,3.]) # kg\n",
    "vel_arr = np.array([0.5, 2.5, 3.]) #m/s\n",
    "KE = ComputeKE(mass_arr,vel_arr)\n",
    "print (KE)"
   ]
  },
  {
   "cell_type": "code",
   "execution_count": 65,
   "id": "930a5fec",
   "metadata": {},
   "outputs": [
    {
     "name": "stdout",
     "output_type": "stream",
     "text": [
      "[1 2]\n",
      "<class 'numpy.ndarray'>\n"
     ]
    },
    {
     "data": {
      "text/plain": [
       "array([2, 4])"
      ]
     },
     "execution_count": 65,
     "metadata": {},
     "output_type": "execute_result"
    }
   ],
   "source": [
    "my_list = np.array([1,2])\n",
    "print (my_list)\n",
    "print (type(my_list))\n",
    "\n",
    "my_list + my_list"
   ]
  },
  {
   "cell_type": "code",
   "execution_count": null,
   "id": "0ccaa25e",
   "metadata": {},
   "outputs": [],
   "source": []
  }
 ],
 "metadata": {
  "kernelspec": {
   "display_name": "Python 3 (ipykernel)",
   "language": "python",
   "name": "python3"
  },
  "language_info": {
   "codemirror_mode": {
    "name": "ipython",
    "version": 3
   },
   "file_extension": ".py",
   "mimetype": "text/x-python",
   "name": "python",
   "nbconvert_exporter": "python",
   "pygments_lexer": "ipython3",
   "version": "3.9.12"
  }
 },
 "nbformat": 4,
 "nbformat_minor": 5
}
