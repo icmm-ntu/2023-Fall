{
 "cells": [
  {
   "cell_type": "code",
   "execution_count": 6,
   "id": "5fe4a413",
   "metadata": {},
   "outputs": [
    {
     "name": "stdout",
     "output_type": "stream",
     "text": [
      "What is your name? CH\n",
      "Hello, CH.\n",
      "Hello, World.\n",
      "Good night, World.\n"
     ]
    }
   ],
   "source": [
    "name = input(\"What is your name? \")# Read data from user\n",
    "print (\"Hello, %s.\" % name)\n",
    "#=====\n",
    "name = 'World'#define data here \n",
    "print (\"Hello, %s.\" % name)\n",
    "#use number sign for single-line comment\n",
    "\"\"\"\n",
    "multi-line comments\n",
    "\"\"\"\n",
    "print (\"Good night, %s.\" % name)"
   ]
  },
  {
   "cell_type": "code",
   "execution_count": 15,
   "id": "b8740717",
   "metadata": {},
   "outputs": [
    {
     "name": "stdout",
     "output_type": "stream",
     "text": [
      "2023-09-14 12:56:17.653420\n",
      "Current date and time:\n",
      "Current year: 2023\n",
      "Current month: 9\n",
      "Current day: 14\n",
      "Current hour: 12\n",
      "Current minute: 56\n",
      "Current second: 17\n"
     ]
    }
   ],
   "source": [
    "import datetime as dt # import datetime module, call it \"dt\"\n",
    "now = dt.datetime.now() #submodule\n",
    "print (now)\n",
    "print (\"Current date and time:\")\n",
    "print (\"Current year: %d\" % now.year)\n",
    "print (\"Current month: %d\" % now.month)\n",
    "print (\"Current day: %d\" % now.day)\n",
    "print (\"Current hour: %d\" % now.hour)\n",
    "print (\"Current minute: %d\" % now.minute)\n",
    "print (\"Current second: %d\" % now.second)\n"
   ]
  },
  {
   "cell_type": "code",
   "execution_count": 35,
   "id": "69a7c78c",
   "metadata": {},
   "outputs": [
    {
     "name": "stdout",
     "output_type": "stream",
     "text": [
      "123.456\n",
      "<class 'str'>\n"
     ]
    },
    {
     "data": {
      "text/plain": [
       "'123.456123.456'"
      ]
     },
     "execution_count": 35,
     "metadata": {},
     "output_type": "execute_result"
    }
   ],
   "source": [
    "a = \"123.456\"\n",
    "print (a)\n",
    "print (type(a))\n",
    "a+a"
   ]
  },
  {
   "cell_type": "code",
   "execution_count": 36,
   "id": "1caa9da2",
   "metadata": {},
   "outputs": [
    {
     "name": "stdout",
     "output_type": "stream",
     "text": [
      "123.456\n",
      "<class 'float'>\n"
     ]
    },
    {
     "data": {
      "text/plain": [
       "246.912"
      ]
     },
     "execution_count": 36,
     "metadata": {},
     "output_type": "execute_result"
    }
   ],
   "source": [
    "b = float(a)\n",
    "print(b)\n",
    "print (type(b))\n",
    "b+b"
   ]
  },
  {
   "cell_type": "code",
   "execution_count": 37,
   "id": "71844f1e",
   "metadata": {},
   "outputs": [
    {
     "name": "stdout",
     "output_type": "stream",
     "text": [
      "a + b =  5\n",
      "a + b = 5\n"
     ]
    }
   ],
   "source": [
    "a = 2\n",
    "b = 3\n",
    "c = a + b \n",
    "print (\"a + b = \", c)\n",
    "print (\"a + b = %d\"%(c))\n",
    "\n"
   ]
  },
  {
   "cell_type": "code",
   "execution_count": 38,
   "id": "da32c43c",
   "metadata": {},
   "outputs": [
    {
     "name": "stdout",
     "output_type": "stream",
     "text": [
      "a * b =  6\n",
      "a * b = 6\n"
     ]
    }
   ],
   "source": [
    "#=====\n",
    "d = a * b # 2*3\n",
    "print (\"a * b = \", d)\n",
    "print (\"a * b = %d\"%(d))\n"
   ]
  },
  {
   "cell_type": "code",
   "execution_count": 41,
   "id": "70326ea4",
   "metadata": {},
   "outputs": [
    {
     "name": "stdout",
     "output_type": "stream",
     "text": [
      "a / b = 0.6666666666666666\n",
      "a * b = 0.67\n"
     ]
    }
   ],
   "source": [
    "#=====\n",
    "e = a / b #2/3=0.66667\n",
    "print (\"a / b =\", e)\n",
    "print (\"a * b = %.2f\"%(e))\n"
   ]
  },
  {
   "cell_type": "code",
   "execution_count": 42,
   "id": "5360d4ae",
   "metadata": {},
   "outputs": [
    {
     "name": "stdout",
     "output_type": "stream",
     "text": [
      "2/3 =  0.6666666666666666\n",
      "2/3 =  0.6666666666666666\n"
     ]
    }
   ],
   "source": [
    "#=====\n",
    "print (\"2/3 = \", 2/3) # becareful 2/3 gives you 0 in python2\n",
    "print (\"2/3 = \", 2.0/3.0) # print 0.666666666667\n",
    "\n"
   ]
  },
  {
   "cell_type": "code",
   "execution_count": 48,
   "id": "fbafd91c",
   "metadata": {},
   "outputs": [
    {
     "name": "stdout",
     "output_type": "stream",
     "text": [
      "3^2 = 27.00\n",
      "3^2 = 27.00\n",
      "3^2 = 27.00\n"
     ]
    }
   ],
   "source": [
    "print (\"3^2 = %.2f\"%(3.*3.*3.))\n",
    "\n",
    "print (\"3^2 = %.2f\"%(pow(3.,3.)))\n",
    "\n",
    "print (\"3^2 = %.2f\"%(3 ** 3))\n",
    "\n",
    "\n",
    "^\n",
    "\n",
    "\n",
    "\n"
   ]
  },
  {
   "cell_type": "code",
   "execution_count": 49,
   "id": "e9a0492e",
   "metadata": {},
   "outputs": [
    {
     "name": "stdout",
     "output_type": "stream",
     "text": [
      " a & b =  12\n"
     ]
    }
   ],
   "source": [
    "a = 60            # 60 = 0011 1100 \n",
    "b = 13            # 13 = 0000 1101 \n",
    "c = 0\n",
    "\n",
    "c = a & b;        # 12 = 0000 1100\n",
    "print (\" a & b = \", c)\n",
    "\n"
   ]
  },
  {
   "cell_type": "code",
   "execution_count": 50,
   "id": "c4745060",
   "metadata": {},
   "outputs": [
    {
     "name": "stdout",
     "output_type": "stream",
     "text": [
      "a | b =  61\n"
     ]
    }
   ],
   "source": [
    "c = a | b;        # 61 = 0011 1101 \n",
    "print (\"a | b = \", c)"
   ]
  },
  {
   "cell_type": "code",
   "execution_count": 51,
   "id": "83bb0c01",
   "metadata": {},
   "outputs": [
    {
     "name": "stdout",
     "output_type": "stream",
     "text": [
      "a ^ b =  49\n"
     ]
    }
   ],
   "source": [
    "c = a ^ b;        # 49 = 0011 0001\n",
    "print (\"a ^ b = \", c)"
   ]
  },
  {
   "cell_type": "code",
   "execution_count": 52,
   "id": "183ad2ec",
   "metadata": {},
   "outputs": [
    {
     "name": "stdout",
     "output_type": "stream",
     "text": [
      "~a  =  -61\n"
     ]
    }
   ],
   "source": [
    "c = ~a;           # -61 = 1100 0011\n",
    "print (\"~a  = \", c)"
   ]
  },
  {
   "cell_type": "code",
   "execution_count": 54,
   "id": "4abe7c5f",
   "metadata": {},
   "outputs": [
    {
     "name": "stdout",
     "output_type": "stream",
     "text": [
      "1.125\n",
      "Kinectic energy is 1.125 J\n"
     ]
    }
   ],
   "source": [
    "import numpy as np\n",
    "mass = 1. #kg\n",
    "velocity = 1.5 #m/s\n",
    "KE = 0.5 * mass * velocity **2.\n",
    "print (KE)\n",
    "print (\"Kinectic energy is %.3f J\"%(KE))\n"
   ]
  },
  {
   "cell_type": "code",
   "execution_count": 55,
   "id": "41a53c84",
   "metadata": {},
   "outputs": [
    {
     "name": "stdout",
     "output_type": "stream",
     "text": [
      "0.25\n",
      "Kinectic energy is 0.250 J\n"
     ]
    }
   ],
   "source": [
    "mass = 2. #kg\n",
    "velocity = 0.5 #m/s\n",
    "KE = 0.5 * mass * velocity **2.\n",
    "print (KE)\n",
    "print (\"Kinectic energy is %.3f J\"%(KE))"
   ]
  },
  {
   "cell_type": "code",
   "execution_count": 72,
   "id": "48d56a06",
   "metadata": {},
   "outputs": [
    {
     "ename": "IndentationError",
     "evalue": "unindent does not match any outer indentation level (<tokenize>, line 3)",
     "output_type": "error",
     "traceback": [
      "\u001b[0;36m  File \u001b[0;32m<tokenize>:3\u001b[0;36m\u001b[0m\n\u001b[0;31m    return KE\u001b[0m\n\u001b[0m    ^\u001b[0m\n\u001b[0;31mIndentationError\u001b[0m\u001b[0;31m:\u001b[0m unindent does not match any outer indentation level\n"
     ]
    }
   ],
   "source": [
    "def ComputeKE(m,v):\n",
    "    KE = 0.5 * m * v**2.\n",
    "    return KE\n",
    "\n",
    "KE = ComputeKE(1.,0.5)\n",
    "print (\"Kinectic energy is %.3f J\"%(KE))\n",
    "\n",
    "KE = ComputeKE(2.,2.5)\n",
    "print (\"Kinectic energy is %.3f J\"%(KE))"
   ]
  },
  {
   "cell_type": "code",
   "execution_count": 67,
   "id": "201257ec",
   "metadata": {},
   "outputs": [
    {
     "name": "stdout",
     "output_type": "stream",
     "text": [
      "[ 0.125  6.25  17.34 ]\n"
     ]
    }
   ],
   "source": [
    "mass_arr = np.array([1., 2.,3.]) # kg\n",
    "vel_arr = np.array([0.5, 2.5, 3.4]) #m/s\n",
    "KE = ComputeKE(mass_arr,vel_arr)\n",
    "print (KE)"
   ]
  },
  {
   "cell_type": "code",
   "execution_count": 65,
   "id": "985afc60",
   "metadata": {},
   "outputs": [
    {
     "name": "stdout",
     "output_type": "stream",
     "text": [
      "[1 2]\n",
      "<class 'numpy.ndarray'>\n"
     ]
    },
    {
     "data": {
      "text/plain": [
       "array([2, 4])"
      ]
     },
     "execution_count": 65,
     "metadata": {},
     "output_type": "execute_result"
    }
   ],
   "source": [
    "my_list = np.array([1,2])\n",
    "print (my_list)\n",
    "print (type(my_list))\n",
    "\n",
    "my_list + my_list"
   ]
  },
  {
   "cell_type": "code",
   "execution_count": 78,
   "id": "1c0db17f",
   "metadata": {},
   "outputs": [],
   "source": [
    "sum = 0.0\n",
    "for i in range(100):\n",
    "    #sum = sum + 1.23\n",
    "    sum += 1.23\n",
    "    #print (\"Sum = %f\"%sum)\n",
    "\n"
   ]
  },
  {
   "cell_type": "code",
   "execution_count": 80,
   "id": "e82e8456",
   "metadata": {},
   "outputs": [
    {
     "name": "stdout",
     "output_type": "stream",
     "text": [
      "difference =  -1.1368683772161603e-13\n",
      "-1.14e-13\n"
     ]
    }
   ],
   "source": [
    "diff = 123. - sum\n",
    "print (\"difference = \", diff)\n",
    "print (round(diff,15))"
   ]
  },
  {
   "cell_type": "code",
   "execution_count": 81,
   "id": "7b0f9633",
   "metadata": {},
   "outputs": [],
   "source": [
    "sum = 0.0\n",
    "for i in range(1000):\n",
    "    sum += 0.125"
   ]
  },
  {
   "cell_type": "code",
   "execution_count": 82,
   "id": "c0189109",
   "metadata": {},
   "outputs": [
    {
     "name": "stdout",
     "output_type": "stream",
     "text": [
      "difference =  0.0\n",
      "0.0\n"
     ]
    }
   ],
   "source": [
    "diff = 125. - sum\n",
    "print (\"difference = \", diff)\n",
    "print (round(diff,15))"
   ]
  },
  {
   "cell_type": "code",
   "execution_count": 83,
   "id": "3d008aa3",
   "metadata": {},
   "outputs": [
    {
     "data": {
      "text/plain": [
       "0.00013698630136986303"
      ]
     },
     "execution_count": 83,
     "metadata": {},
     "output_type": "execute_result"
    }
   ],
   "source": [
    "0.05/365"
   ]
  },
  {
   "cell_type": "code",
   "execution_count": 84,
   "id": "454c2e3c",
   "metadata": {},
   "outputs": [
    {
     "name": "stdout",
     "output_type": "stream",
     "text": [
      "total = 37425.27242124738\n"
     ]
    }
   ],
   "source": [
    "import numpy as np\n",
    "epsilon = 0.05/365.#daily interest rate\n",
    "\n",
    "# Method 1 - for loop \n",
    "sum = 0.\n",
    "\n",
    "for iteration in range(365):\n",
    "    #print (iteration)\n",
    "    sum += 100. * (1.+ epsilon)**(iteration)\n",
    "print (\"total =\", sum)    \n",
    "    "
   ]
  },
  {
   "cell_type": "code",
   "execution_count": 85,
   "id": "294bd96a",
   "metadata": {},
   "outputs": [
    {
     "name": "stdout",
     "output_type": "stream",
     "text": [
      "total = 37425.27242123654\n"
     ]
    }
   ],
   "source": [
    "#----------\n",
    "# Method 2 - formula for geometric series\n",
    "#=== default precision\n",
    "\n",
    "sum =  100. * ((1.+epsilon)**365.-1)/epsilon #double precision, default\n",
    "print (\"total =\", sum)    "
   ]
  },
  {
   "cell_type": "code",
   "execution_count": 86,
   "id": "e0934fc2",
   "metadata": {},
   "outputs": [
    {
     "name": "stdout",
     "output_type": "stream",
     "text": [
      "total (double precision) = 37425.27242123654\n"
     ]
    }
   ],
   "source": [
    "#=== double precision\n",
    "sum =  np.float64(100. * ((1.+epsilon)**365.-1)/epsilon) #double precision\n",
    "print (\"total (double precision) =\", sum)  "
   ]
  },
  {
   "cell_type": "code",
   "execution_count": 87,
   "id": "7027515e",
   "metadata": {},
   "outputs": [
    {
     "name": "stdout",
     "output_type": "stream",
     "text": [
      "total (double precision) = 37425.273\n"
     ]
    }
   ],
   "source": [
    "#=== double precision\n",
    "sum =  np.float32(100. * ((1.+epsilon)**365.-1)/epsilon) #double precision\n",
    "print (\"total (double precision) =\", sum)"
   ]
  },
  {
   "cell_type": "code",
   "execution_count": 88,
   "id": "74f6af3c",
   "metadata": {},
   "outputs": [
    {
     "name": "stdout",
     "output_type": "stream",
     "text": [
      "total (half precision) = 37440.0\n"
     ]
    }
   ],
   "source": [
    "#=== half precision\n",
    "sum =  np.float16(100. * ((1.+epsilon)**365.-1)/epsilon) #half precision\n",
    "print (\"total (half precision) =\", sum)"
   ]
  },
  {
   "cell_type": "code",
   "execution_count": 94,
   "id": "fdda3e89",
   "metadata": {},
   "outputs": [
    {
     "name": "stdout",
     "output_type": "stream",
     "text": [
      "enter the radius of a cirlce ?1.0\n",
      "radius =  1.0\n",
      "area =  3.141592653589793\n"
     ]
    }
   ],
   "source": [
    "import numpy as np\n",
    "\n",
    "\n",
    "radius = input(\"enter the radius of a cirlce ?\")\n",
    "print (\"radius = \", radius)\n",
    "radius = float (radius)\n",
    "area = np.pi * radius ** 2.\n",
    "print (\"area = \", area)\n"
   ]
  },
  {
   "cell_type": "code",
   "execution_count": 105,
   "id": "304851a2",
   "metadata": {},
   "outputs": [
    {
     "name": "stdout",
     "output_type": "stream",
     "text": [
      "[0.         0.12566371 0.50265482 1.13097336 2.0106193  3.14159265]\n"
     ]
    },
    {
     "data": {
      "text/plain": [
       "Text(0, 0.5, '$A = \\\\pi R^2 $')"
      ]
     },
     "execution_count": 105,
     "metadata": {},
     "output_type": "execute_result"
    },
    {
     "data": {
      "image/png": "[encoded data removed]",
      "text/plain": [
       "<Figure size 432x288 with 1 Axes>"
      ]
     },
     "metadata": {
      "needs_background": "light"
     },
     "output_type": "display_data"
    }
   ],
   "source": [
    "import numpy as np\n",
    "import matplotlib.pyplot as plt\n",
    "\n",
    "\n",
    "\n",
    "Radius_data = np.array([0.0,0.2,0.4,0.6,0.8,1.0]) # six data points\n",
    "Area_data = np.pi * Radius_data ** 2.\n",
    "print (Area_data)\n",
    "\n",
    "plt.plot(Radius_data, Area_data,'go-')\n",
    "plt.xlabel(r\"$R$\", fontsize = 20)\n",
    "plt.ylabel(r\"$A = \\pi R^2 $\", fontsize = 20)\n"
   ]
  },
  {
   "cell_type": "code",
   "execution_count": null,
   "id": "ef0214c0",
   "metadata": {},
   "outputs": [],
   "source": []
  }
 ],
 "metadata": {
  "kernelspec": {
   "display_name": "Python 3 (ipykernel)",
   "language": "python",
   "name": "python3"
  },
  "language_info": {
   "codemirror_mode": {
    "name": "ipython",
    "version": 3
   },
   "file_extension": ".py",
   "mimetype": "text/x-python",
   "name": "python",
   "nbconvert_exporter": "python",
   "pygments_lexer": "ipython3",
   "version": "3.9.12"
  }
 },
 "nbformat": 4,
 "nbformat_minor": 5
}
