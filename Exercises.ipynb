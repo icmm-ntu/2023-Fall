{
 "cells": [
  {
   "cell_type": "code",
   "execution_count": 19,
   "id": "377902ac",
   "metadata": {},
   "outputs": [
    {
     "name": "stdout",
     "output_type": "stream",
     "text": [
      "======\n",
      "|x1-x3| =  4.6339054961914636e-18\n",
      "|x2-x4| =  4.633959882482941e-12\n"
     ]
    }
   ],
   "source": [
    "\n",
    "def FindQuadraticSolution(a,b,c):\n",
    "    x1 = (-b + (b**2. - 4.*a*c)**0.5)/(2. *a)\n",
    "    x2 = (-b - (b**2. - 4.*a*c)**0.5)/(2. *a)\n",
    "    x3 = -2. *c / (b + (b**2. - 4.*a*c)**0.5)\n",
    "    x4 = -2. *c / (b - (b**2. - 4.*a*c)**0.5)\n",
    "    \n",
    "    err_1 = abs(x1 - x3)\n",
    "    err_2 = abs(x2 - x4)\n",
    "    return x1,x2,x3,x4,err_1,err_2\n",
    "\n",
    "#=====\n",
    "c = 10 ** (-6) # 0.1\n",
    "x1,x2,x3,x4,err_1,err_2 = FindQuadraticSolution(1.,1.,c)\n",
    "print ('======')\n",
    "print (\"|x1-x3| = \", err_1)\n",
    "print (\"|x2-x4| = \", err_2)\n",
    "\n"
   ]
  },
  {
   "cell_type": "code",
   "execution_count": null,
   "id": "50da85e1",
   "metadata": {},
   "outputs": [],
   "source": [
    "print (x1)\n",
    "print (x3)\n",
    "print ('======')\n",
    "print (x2)\n",
    "print (x4)"
   ]
  }
 ],
 "metadata": {
  "kernelspec": {
   "display_name": "Python 3 (ipykernel)",
   "language": "python",
   "name": "python3"
  },
  "language_info": {
   "codemirror_mode": {
    "name": "ipython",
    "version": 3
   },
   "file_extension": ".py",
   "mimetype": "text/x-python",
   "name": "python",
   "nbconvert_exporter": "python",
   "pygments_lexer": "ipython3",
   "version": "3.9.12"
  }
 },
 "nbformat": 4,
 "nbformat_minor": 5
}
