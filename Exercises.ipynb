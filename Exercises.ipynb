{
 "cells": [
  {
   "cell_type": "code",
   "execution_count": 15,
   "id": "286718af",
   "metadata": {},
   "outputs": [
    {
     "name": "stdout",
     "output_type": "stream",
     "text": [
      "793\n",
      "The ratio of N_sinde to N_total =  0.793\n",
      "Area_MC= 3.172\n"
     ]
    }
   ],
   "source": [
    "import numpy\n",
    "import matplotlib.pyplot as plt\n",
    "\n",
    "N = 1000\n",
    "r = 1.0\n",
    "\n",
    "inside = []\n",
    "for i in range(N):\n",
    "    x = numpy.random.uniform(-1, 1)\n",
    "    y = numpy.random.uniform(-1, 1)\n",
    "    dist = (x**2. + y**2.)**0.5\n",
    "    pos = (x,y)\n",
    "    if dist < r:\n",
    "        inside.append(pos)\n",
    "\n",
    "print (len(inside))\n",
    "fraction = len(inside) /N        \n",
    "print (\"The ratio of N_sinde to N_total = \", fraction)        \n",
    "Area_MC = 4. * fraction\n",
    "print (\"Area_MC=\", Area_MC)\n",
    "    \n"
   ]
  },
  {
   "cell_type": "code",
   "execution_count": null,
   "id": "b9fb161c",
   "metadata": {},
   "outputs": [],
   "source": [
    "\n",
    "\n",
    "\n",
    "\n",
    "\n"
   ]
  },
  {
   "cell_type": "code",
   "execution_count": 8,
   "id": "ad38b00b",
   "metadata": {},
   "outputs": [
    {
     "data": {
      "image/png": "[encoded data removed]",
      "text/plain": [
       "<Figure size 432x288 with 1 Axes>"
      ]
     },
     "metadata": {
      "needs_background": "light"
     },
     "output_type": "display_data"
    }
   ],
   "source": [
    "import numpy\n",
    "import matplotlib.pyplot as plt\n",
    "\n",
    "N = 100000\n",
    "r = 1.0\n",
    "count_inside = 0\n",
    "A_MC_list = []\n",
    "Iter_list = []\n",
    "for i in range(N):\n",
    "    x = numpy.random.uniform(-1, 1)\n",
    "    y = numpy.random.uniform(-1, 1)\n",
    "    dist = (x**2. + y**2.)**0.5\n",
    "    if dist < r:\n",
    "        count_inside = 1+count_inside\n",
    "    fraction = count_inside / (i+1) \n",
    "    A_MC = 4. * fraction\n",
    "    A_MC_list.append(A_MC)\n",
    "    Iter_list.append(i+1)\n",
    "    \n",
    "plt.semilogx(Iter_list, A_MC_list,'-')\n",
    "\n",
    "plt.axhline(numpy.pi, color='r');\n",
    "\n"
   ]
  },
  {
   "cell_type": "code",
   "execution_count": 35,
   "id": "9f816ffe",
   "metadata": {},
   "outputs": [],
   "source": [
    "\n",
    "\n",
    "\n",
    "\n",
    "import numpy as np\n",
    "import matplotlib.pyplot as plt\n",
    "\n",
    "\n",
    "def MC_Integrate(N_total):\n",
    "    x_array = np.random.uniform(-1,1,N_total) #\n",
    "    y_array = np.random.uniform(-1,1,N_total)\n",
    "    N_inside= sum(x_array**2+y_array**2 < 1)\n",
    "    N_outside = N_total - N_inside\n",
    "    Ratio = float(N_inside)/N_total\n",
    "    return [N_total,N_inside,N_outside, Ratio]\n",
    "\n",
    "\n",
    "\n",
    "\n",
    "\n",
    "#header = \"#N_total, N_inside, N_outside, Ratio\\n\"\n",
    "string = \"#%8s\\t%8s\\t%8s\\t%8s\\n\"%(\"N_tot\", \"N_in\", \"N_out\", \"Ratio\")\n",
    "\n",
    "\n",
    "n_trial_list = [100,200,1000, 100]\n",
    "\n",
    "for n_trial in n_trial_list:\n",
    "\n",
    "    [N_total,N_inside,N_outside, Ratio] = MC_Integrate(n_trial)\n",
    "    string +=  \"%8d\\t%8d\\t%8d\\t%8.3f\\n\"%(N_total, N_inside,N_outside,Ratio)\n",
    "\n",
    "\n",
    "#-----Saving Data-----\n",
    "f = open(\"Unit3.5_MC_Circle.txt\",\"w\")\n",
    "#write into file, \"a\": append data to exisitng file\n",
    "f.write(string)\n",
    "f.close()\n",
    "\n",
    "#print (string)\n",
    "\n"
   ]
  },
  {
   "cell_type": "code",
   "execution_count": 39,
   "id": "d9f70b61",
   "metadata": {},
   "outputs": [
    {
     "data": {
      "image/png": "[encoded data removed]",
      "text/plain": [
       "<Figure size 600x400 with 1 Axes>"
      ]
     },
     "metadata": {
      "needs_background": "light"
     },
     "output_type": "display_data"
    }
   ],
   "source": [
    "Data = np.loadtxt(\"Unit3.5_MC_Circle.txt\")\n",
    "#print (Data)\n",
    "\n",
    "N_tot = Data[:,0]\n",
    "N_inside = Data[:,1]\n",
    "N_outside = Data[:,2]\n",
    "Ratio = Data[:,3]\n",
    "\n",
    "#print (N_tot)\n",
    "\n",
    "MC_Area = 4.0 * Ratio # should be close to pi value.\n",
    "\n",
    "\n",
    "\n",
    "fig = plt.figure( dpi = 100 ) # set figure resolution, dots per inch\n",
    "fig.set_size_inches(6,4)\n",
    "plt.plot(N_tot, MC_Area,'ko')\n",
    "plt.axhline(np.pi, color='r');\n",
    "\n",
    "\n",
    "\n"
   ]
  },
  {
   "cell_type": "code",
   "execution_count": null,
   "id": "b6e9dc97",
   "metadata": {},
   "outputs": [],
   "source": []
  }
 ],
 "metadata": {
  "kernelspec": {
   "display_name": "Python 3 (ipykernel)",
   "language": "python",
   "name": "python3"
  },
  "language_info": {
   "codemirror_mode": {
    "name": "ipython",
    "version": 3
   },
   "file_extension": ".py",
   "mimetype": "text/x-python",
   "name": "python",
   "nbconvert_exporter": "python",
   "pygments_lexer": "ipython3",
   "version": "3.9.12"
  }
 },
 "nbformat": 4,
 "nbformat_minor": 5
}
