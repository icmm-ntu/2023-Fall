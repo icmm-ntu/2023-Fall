{
 "cells": [
  {
   "cell_type": "code",
   "execution_count": 55,
   "id": "40134d8d",
   "metadata": {},
   "outputs": [
    {
     "name": "stdout",
     "output_type": "stream",
     "text": [
      "281073\n",
      "384776\n",
      "334151\n",
      "1000000\n",
      "Area_A =  0.562146\n",
      "Area_B =  0.769552\n",
      "Area_Outside =  0.668302\n",
      "total_area =  2.0\n",
      "Mass_Composite = 4.410 g\n"
     ]
    },
    {
     "data": {
      "image/png": "[encoded data removed]",
      "text/plain": [
       "<Figure size 432x432 with 1 Axes>"
      ]
     },
     "metadata": {
      "needs_background": "light"
     },
     "output_type": "display_data"
    }
   ],
   "source": [
    "import numpy as np\n",
    "import matplotlib.pyplot as plt\n",
    "plt.close('all')\n",
    "#===\n",
    "N = ??????# **6\n",
    "counter_A = 0\n",
    "counter_B = 0\n",
    "counter_outside = 0\n",
    "A_pos = []\n",
    "B_pos = []\n",
    "for i in range(N):\n",
    "    x = np.random.uniform(-1, 1)\n",
    "    y = np.random.uniform(0, 1)\n",
    "    if (y >= ???????):\n",
    "        if (y < ???????):\n",
    "            pos = (x,y)\n",
    "            A_pos.append(pos)\n",
    "            counter_A += 1\n",
    "        else:\n",
    "            pos = (x,y)\n",
    "            B_pos.append(pos)\n",
    "            counter_B += 1\n",
    "    else:\n",
    "        counter_outside += 1\n",
    "\n",
    "\n",
    "\n",
    "plt.figure(figsize=(6, 6))\n",
    "plt.scatter([pos[0] for pos in A_pos], [pos[1] for pos in A_pos], color = 'y', marker='o', \\\n",
    "            s = 20, alpha=1.0);\n",
    "plt.scatter([pos[0] for pos in B_pos], [pos[1] for pos in B_pos], color = 'r', marker='o', \\\n",
    "            s = 20, alpha=1.0);\n",
    "\n",
    "plt.xlim(-1.5,1.5)\n",
    "plt.ylim(-0.5,1.5)\n",
    "\n",
    "print (counter_A)\n",
    "print (counter_B)\n",
    "print (counter_outside)\n",
    "\n",
    "total = counter_A + counter_B + counter_outside\n",
    "print (total)\n",
    "Square_Area = ???????\n",
    "Area_A = Square_Area * counter_A/total\n",
    "Area_B = Square_Area * counter_B/total\n",
    "Area_Outside = Square_Area * counter_outside/total\n",
    "\n",
    "print (\"Area_A = \", Area_A)\n",
    "print (\"Area_B = \", Area_B)\n",
    "print (\"Area_Outside = \", Area_Outside)\n",
    "total_area = Area_A + Area_B + Area_Outside\n",
    "print (\"total_area = \", total_area)\n",
    "#==\n",
    "sigma_A = ?????? #g/m^2\n",
    "sigma_B = ?????? #g/m^2\n",
    "Mass_A = Area_A * sigma_A\n",
    "Mass_B = Area_B * sigma_B\n",
    "Mass_Composite = Mass_A + Mass_B\n",
    "print (\"Mass_Composite = %.3f g\"%(Mass_Composite))"
   ]
  },
  {
   "cell_type": "code",
   "execution_count": null,
   "id": "77d69adb",
   "metadata": {},
   "outputs": [],
   "source": []
  }
 ],
 "metadata": {
  "kernelspec": {
   "display_name": "Python 3 (ipykernel)",
   "language": "python",
   "name": "python3"
  },
  "language_info": {
   "codemirror_mode": {
    "name": "ipython",
    "version": 3
   },
   "file_extension": ".py",
   "mimetype": "text/x-python",
   "name": "python",
   "nbconvert_exporter": "python",
   "pygments_lexer": "ipython3",
   "version": "3.9.12"
  }
 },
 "nbformat": 4,
 "nbformat_minor": 5
}
