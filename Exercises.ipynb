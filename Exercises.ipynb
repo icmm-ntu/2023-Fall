{
 "cells": [
  {
   "cell_type": "code",
   "execution_count": 1,
   "id": "269eb82a",
   "metadata": {},
   "outputs": [
    {
     "name": "stdout",
     "output_type": "stream",
     "text": [
      "res = 9.68e-11\n",
      "u_vec = [11.  16.5 21.  23. ]\n",
      "iter_count = 74\n"
     ]
    }
   ],
   "source": [
    "import numpy as np\n",
    "\n",
    "A = np.array([[ 3., -2.,  0.,  0.],\n",
    "              [-2.,  4., -2.,  0.],\n",
    "              [ 0., -2.,  6., -4.],\n",
    "              [ 0.,  0., -4.,  4.]])\n",
    "\n",
    "b = np.array([0,2,1,8])\n",
    "u_vec = np.array([0,0,0,0.])\n",
    "omega = 1.7\n",
    "\n",
    "\n",
    "def MySOR(A,b,omega,u_vec):\n",
    "    residual_convergence = 1e-10\n",
    "    residual = np.linalg.norm(np.dot(A, u_vec) - b) #Initial residual\n",
    "    iter_count = 0\n",
    "   \n",
    "    while residual > residual_convergence:\n",
    "        iter_count+=1\n",
    "        for i in range(4):\n",
    "            sigma_i = 0\n",
    "            for j in range(4):\n",
    "                if j < i: # lower triangle elements\n",
    "                    sigma_i += A[i][j] * u_vec[j]\n",
    "                if j > i: # upper traignel elements\n",
    "                    sigma_i += A[i][j] * u_vec[j]\n",
    "            u_vec[i] = (1. - omega) * u_vec[i]  + omega * 1./A[i][i] * ( b[i] - sigma_i)\n",
    "        #swap \n",
    "        residual = np.linalg.norm(np.dot(A, u_vec) - b)\n",
    "    return [u_vec,residual,iter_count]\n",
    "\n",
    "\n",
    "[u_vec,residual,iter_count] = MySOR(A,b,omega,u_vec)\n",
    "print (\"res = {:5.2e}\".format(residual))\n",
    "print (\"u_vec = {}\".format(u_vec))\n",
    "print (\"iter_count = {}\".format(iter_count))\n",
    "\n",
    "\n"
   ]
  },
  {
   "cell_type": "code",
   "execution_count": 11,
   "id": "e64bb738",
   "metadata": {},
   "outputs": [
    {
     "name": "stdout",
     "output_type": "stream",
     "text": [
      "y_vec = [1.8  2.95 4.15 5.25]\n"
     ]
    }
   ],
   "source": [
    "# Input parameters\n",
    "\n",
    "def FindBallPosition(k_vec, l_vec,mg_vec):\n",
    "    k_01,k_12,k_23,k_34 = k_vec[0],k_vec[1],k_vec[2],k_vec[3] #N/m\n",
    "    l_01,l_12,l_23,l_34 = l_vec[0],l_vec[1],l_vec[2],l_vec[3] #meters\n",
    "    m1_g,m2_g,m3_g,m4_g = mg_vec[0],mg_vec[1],mg_vec[2],mg_vec[3] #N\n",
    "\n",
    "    #=====\n",
    "    A = np.array([[k_01+k_12, -k_12, 0,  0.],\n",
    "                  [-k_12, k_12+k_23, -k_23, 0],\n",
    "                  [0, -k_23, k_23+k_34, -k_34],\n",
    "                  [ 0.,  0., -k_34, k_34]])\n",
    "\n",
    "\n",
    "    #===b_vec\n",
    "    b1 = m1_g + k_01 * l_01 - k_12 * l_12\n",
    "    b2 = m2_g + k_12 * l_12 - k_23 * l_23\n",
    "    b3 = m3_g + k_23 * l_23 - k_34 * l_34\n",
    "    b4 = m4_g + k_34 * l_34\n",
    "    b_vec = np.array([b1, b2, b3, b4])\n",
    "\n",
    "    y_vec = np.array([100., 100., -1., 200.])\n",
    "    [y_vec,residual,iter_count] = MySOR(A,b_vec,omega,y_vec)\n",
    "    return y_vec\n",
    "   \n",
    "    \n",
    "#=====\n",
    "k_vec = np.array([1.,2.,1.,1.,])  # N/m\n",
    "l_vec = np.array([1.,1.,1.,1.,]) # m\n",
    "mg_vec = np.array([0.5,0.1,0.1,0.1]) # N\n",
    "#==\n",
    "y_vec = FindBallPosition(k_vec, l_vec,mg_vec)\n",
    "print (\"y_vec = {}\".format(y_vec))\n",
    "\n",
    "    \n",
    "\n"
   ]
  },
  {
   "cell_type": "code",
   "execution_count": null,
   "id": "f14e259b",
   "metadata": {},
   "outputs": [],
   "source": []
  },
  {
   "attachments": {
    "image.png": {
     "image/png": "[encoded data removed]"
    }
   },
   "cell_type": "markdown",
   "id": "15d314d4",
   "metadata": {},
   "source": [
    "![image.png](attachment:image.png)"
   ]
  },
  {
   "cell_type": "code",
   "execution_count": null,
   "id": "e2a229db",
   "metadata": {},
   "outputs": [],
   "source": [
    "\n",
    "\n",
    "\n",
    "\n"
   ]
  }
 ],
 "metadata": {
  "kernelspec": {
   "display_name": "Python 3 (ipykernel)",
   "language": "python",
   "name": "python3"
  },
  "language_info": {
   "codemirror_mode": {
    "name": "ipython",
    "version": 3
   },
   "file_extension": ".py",
   "mimetype": "text/x-python",
   "name": "python",
   "nbconvert_exporter": "python",
   "pygments_lexer": "ipython3",
   "version": "3.9.12"
  }
 },
 "nbformat": 4,
 "nbformat_minor": 5
}
