{
 "cells": [
  {
   "cell_type": "code",
   "execution_count": 56,
   "id": "132d0331",
   "metadata": {},
   "outputs": [
    {
     "ename": "SyntaxError",
     "evalue": "invalid syntax (246659023.py, line 5)",
     "output_type": "error",
     "traceback": [
      "\u001b[0;36m  Input \u001b[0;32mIn [56]\u001b[0;36m\u001b[0m\n\u001b[0;31m    N = ??????# **6\u001b[0m\n\u001b[0m        ^\u001b[0m\n\u001b[0;31mSyntaxError\u001b[0m\u001b[0;31m:\u001b[0m invalid syntax\n"
     ]
    }
   ],
   "source": [
    "import numpy as np\n",
    "import matplotlib.pyplot as plt\n",
    "plt.close('all')\n",
    "#===\n",
    "N = ??????# **6\n",
    "counter_A = 0\n",
    "counter_B = 0\n",
    "counter_outside = 0\n",
    "A_pos = []\n",
    "B_pos = []\n",
    "for i in range(N):\n",
    "    x = np.random.uniform(-1, 1)\n",
    "    y = np.random.uniform(0, 1)\n",
    "    if (y >= ???????):\n",
    "        if (y < ???????):\n",
    "            pos = (x,y)\n",
    "            A_pos.append(pos)\n",
    "            counter_A += 1\n",
    "        else:\n",
    "            pos = (x,y)\n",
    "            B_pos.append(pos)\n",
    "            counter_B += 1\n",
    "    else:\n",
    "        counter_outside += 1\n",
    "\n",
    "\n",
    "\n",
    "plt.figure(figsize=(6, 6))\n",
    "plt.scatter([pos[0] for pos in A_pos], [pos[1] for pos in A_pos], color = 'y', marker='o', \\\n",
    "            s = 20, alpha=1.0);\n",
    "plt.scatter([pos[0] for pos in B_pos], [pos[1] for pos in B_pos], color = 'r', marker='o', \\\n",
    "            s = 20, alpha=1.0);\n",
    "\n",
    "plt.xlim(-1.5,1.5)\n",
    "plt.ylim(-0.5,1.5)\n",
    "\n",
    "print (counter_A)\n",
    "print (counter_B)\n",
    "print (counter_outside)\n",
    "\n",
    "total = counter_A + counter_B + counter_outside\n",
    "print (total)\n",
    "Square_Area = ???????\n",
    "Area_A = Square_Area * counter_A/total\n",
    "Area_B = Square_Area * counter_B/total\n",
    "Area_Outside = Square_Area * counter_outside/total\n",
    "\n",
    "print (\"Area_A = \", Area_A)\n",
    "print (\"Area_B = \", Area_B)\n",
    "print (\"Area_Outside = \", Area_Outside)\n",
    "total_area = Area_A + Area_B + Area_Outside\n",
    "print (\"total_area = \", total_area)\n",
    "#==\n",
    "sigma_A = ?????? #g/m^2\n",
    "sigma_B = ?????? #g/m^2\n",
    "Mass_A = Area_A * sigma_A\n",
    "Mass_B = Area_B * sigma_B\n",
    "Mass_Composite = Mass_A + Mass_B\n",
    "print (\"Mass_Composite = %.3f g\"%(Mass_Composite))"
   ]
  },
  {
   "cell_type": "code",
   "execution_count": 59,
   "id": "9dc05c03",
   "metadata": {},
   "outputs": [
    {
     "name": "stdout",
     "output_type": "stream",
     "text": [
      "[[ 3. -2.  0.  0.]\n",
      " [-2.  4. -2.  0.]\n",
      " [ 0. -2.  6. -4.]\n",
      " [ 0.  0. -4.  4.]]\n",
      "[0 2 1 8]\n"
     ]
    }
   ],
   "source": [
    "import numpy as np\n",
    "A = np.array([[ 3., -2., 0.,  0.],\n",
    "              [-2., 4., -2.,  0.],\n",
    "              [ 0.,  -2.,  6., -4.],\n",
    "              [ 0.,  0., -4.,  4.]])\n",
    "\n",
    "\n",
    "\n",
    "\n",
    "b = np.array([0,2,1,8])\n",
    "\n",
    "print (A)\n",
    "print (b)"
   ]
  },
  {
   "cell_type": "code",
   "execution_count": 60,
   "id": "ea6b3cbb",
   "metadata": {},
   "outputs": [
    {
     "name": "stdout",
     "output_type": "stream",
     "text": [
      "Method 1 = [11.  16.5 21.  23. ]\n"
     ]
    }
   ],
   "source": [
    "Sol = np.linalg.solve(A,b)\n",
    "print (\"Method 1 =\", Sol)\n"
   ]
  },
  {
   "cell_type": "code",
   "execution_count": 61,
   "id": "1938b135",
   "metadata": {},
   "outputs": [
    {
     "name": "stdout",
     "output_type": "stream",
     "text": [
      "Method 2 = [11.  16.5 21.  23. ]\n"
     ]
    }
   ],
   "source": [
    "A_inv = np.linalg.inv(A)\n",
    "Sol2 = np.dot(A_inv, b)\n",
    "print (\"Method 2 =\", Sol2)"
   ]
  },
  {
   "cell_type": "code",
   "execution_count": 68,
   "id": "349bed35",
   "metadata": {},
   "outputs": [
    {
     "name": "stdout",
     "output_type": "stream",
     "text": [
      "[0. 0. 0. 0.]\n",
      "[0.         0.5        0.16666667 2.        ]\n"
     ]
    }
   ],
   "source": [
    "A = np.array([[ 3., -2., 0.,  0.],\n",
    "              [-2., 4., -2.,  0.],\n",
    "              [ 0.,  -2.,  6., -4.],\n",
    "              [ 0.,  0., -4.,  4.]])\n",
    "\n",
    "D = np.array([[ 3., 0., 0.,  0.],\n",
    "              [0., 4., 0.,  0.],\n",
    "              [ 0.,   0., 6.,  0],\n",
    "              [ 0.,  0.,  0,  4.]])\n",
    "\n",
    "L = np.array([[ 0., 0., 0.,  0.],\n",
    "              [-2., 0., 0.,  0.],\n",
    "              [ 0.,  -2.,  0.,0.],\n",
    "              [ 0.,  0., -4.,  0.]])\n",
    "\n",
    "U = np.array([[ 0., -2., 0.,  0.],\n",
    "              [ 0., 0., -2.,  0.],\n",
    "              [ 0.,  0.,  0., -4.],\n",
    "              [ 0.,  0., 0.,  0.]])\n",
    "\n",
    "b = np.array([0,2,1,8])\n",
    "\n",
    "u_old = np.array([0.,0.,0.,0.])\n",
    "u_new = np.array([0.,0.,0.,0.])\n",
    "\n",
    "\n",
    "\n",
    "for i in range(4):\n",
    "    sigma_i = 0.\n",
    "    for j in range(4):\n",
    "        sigma_i += (L[i][j] + U[i][j]) *u_old[j]\n",
    "    u_new[i] = 1. / D[i][i] * (b[i] - sigma_i)\n",
    "\n",
    "\n",
    "print (u_old)\n",
    "print (u_new)\n",
    "\n"
   ]
  },
  {
   "cell_type": "code",
   "execution_count": null,
   "id": "a8b3897a",
   "metadata": {},
   "outputs": [],
   "source": []
  },
  {
   "cell_type": "code",
   "execution_count": null,
   "id": "77815874",
   "metadata": {},
   "outputs": [],
   "source": [
    "\n",
    "   "
   ]
  }
 ],
 "metadata": {
  "kernelspec": {
   "display_name": "Python 3 (ipykernel)",
   "language": "python",
   "name": "python3"
  },
  "language_info": {
   "codemirror_mode": {
    "name": "ipython",
    "version": 3
   },
   "file_extension": ".py",
   "mimetype": "text/x-python",
   "name": "python",
   "nbconvert_exporter": "python",
   "pygments_lexer": "ipython3",
   "version": "3.9.12"
  }
 },
 "nbformat": 4,
 "nbformat_minor": 5
}
