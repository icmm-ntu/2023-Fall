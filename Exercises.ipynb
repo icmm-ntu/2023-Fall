{
 "cells": [
  {
   "cell_type": "code",
   "execution_count": 1,
   "id": "d6e885bf",
   "metadata": {},
   "outputs": [
    {
     "name": "stdout",
     "output_type": "stream",
     "text": [
      "res = 9.68e-11\n",
      "u_vec = [11.  16.5 21.  23. ]\n",
      "iter_count = 74\n"
     ]
    }
   ],
   "source": [
    "import numpy as np\n",
    "\n",
    "#Jacobi\n",
    "\n",
    "A = np.array([[ 3., -2.,  0.,  0.],\n",
    "              [-2.,  4., -2.,  0.],\n",
    "              [ 0., -2.,  6., -4.],\n",
    "              [ 0.,  0., -4.,  4.]])\n",
    "\n",
    "\n",
    "\n",
    "b = np.array([0,2,1,8])\n",
    "u_vec = np.array([0,0,0,0.])\n",
    "\n",
    "residual_convergence = 1e-10\n",
    "residual = np.linalg.norm(np.dot(A, u_vec) - b) #Initial residual\n",
    "\n",
    "iter_count = 0\n",
    "omega = 1.7\n",
    "\n",
    "while residual > residual_convergence:\n",
    "    iter_count+=1\n",
    "    for i in range(4):\n",
    "        sigma_i = 0\n",
    "        for j in range(4):\n",
    "            if j < i: # lower triangle elements\n",
    "                sigma_i += A[i][j] * u_vec[j]\n",
    "            if j > i: # upper traignel elements\n",
    "                sigma_i += A[i][j] * u_vec[j]\n",
    "        u_vec[i] = (1. - omega) * u_vec[i]  + omega * 1./A[i][i] * ( b[i] - sigma_i)\n",
    "    #swap \n",
    "    residual = np.linalg.norm(np.dot(A, u_vec) - b)\n",
    "\n",
    "print (\"res = {:5.2e}\".format(residual))\n",
    "print (\"u_vec = {}\".format(u_vec))\n",
    "print (\"iter_count = {}\".format(iter_count))\n",
    "\n",
    "\n"
   ]
  },
  {
   "cell_type": "code",
   "execution_count": null,
   "id": "4569bfb6",
   "metadata": {},
   "outputs": [],
   "source": []
  }
 ],
 "metadata": {
  "kernelspec": {
   "display_name": "Python 3 (ipykernel)",
   "language": "python",
   "name": "python3"
  },
  "language_info": {
   "codemirror_mode": {
    "name": "ipython",
    "version": 3
   },
   "file_extension": ".py",
   "mimetype": "text/x-python",
   "name": "python",
   "nbconvert_exporter": "python",
   "pygments_lexer": "ipython3",
   "version": "3.9.12"
  }
 },
 "nbformat": 4,
 "nbformat_minor": 5
}
