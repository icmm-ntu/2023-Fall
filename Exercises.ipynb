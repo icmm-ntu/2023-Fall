{
 "cells": [
  {
   "cell_type": "code",
   "execution_count": 15,
   "id": "286718af",
   "metadata": {},
   "outputs": [
    {
     "name": "stdout",
     "output_type": "stream",
     "text": [
      "793\n",
      "The ratio of N_sinde to N_total =  0.793\n",
      "Area_MC= 3.172\n"
     ]
    }
   ],
   "source": [
    "import numpy\n",
    "import matplotlib.pyplot as plt\n",
    "\n",
    "N = 1000\n",
    "r = 1.0\n",
    "\n",
    "inside = []\n",
    "for i in range(N):\n",
    "    x = numpy.random.uniform(-1, 1)\n",
    "    y = numpy.random.uniform(-1, 1)\n",
    "    dist = (x**2. + y**2.)**0.5\n",
    "    pos = (x,y)\n",
    "    if dist < r:\n",
    "        inside.append(pos)\n",
    "\n",
    "print (len(inside))\n",
    "fraction = len(inside) /N        \n",
    "print (\"The ratio of N_sinde to N_total = \", fraction)        \n",
    "Area_MC = 4. * fraction\n",
    "print (\"Area_MC=\", Area_MC)\n",
    "    \n"
   ]
  },
  {
   "cell_type": "code",
   "execution_count": null,
   "id": "739982cc",
   "metadata": {},
   "outputs": [],
   "source": [
    "\n",
    "\n",
    "\n",
    "\n",
    "\n"
   ]
  },
  {
   "cell_type": "code",
   "execution_count": 4,
   "id": "ad38b00b",
   "metadata": {},
   "outputs": [
    {
     "data": {
      "text/plain": [
       "[<matplotlib.lines.Line2D at 0x7f0946153e80>]"
      ]
     },
     "execution_count": 4,
     "metadata": {},
     "output_type": "execute_result"
    },
    {
     "data": {
      "image/png": "[encoded data removed]",
      "text/plain": [
       "<Figure size 432x288 with 1 Axes>"
      ]
     },
     "metadata": {
      "needs_background": "light"
     },
     "output_type": "display_data"
    }
   ],
   "source": [
    "import numpy\n",
    "import matplotlib.pyplot as plt\n",
    "\n",
    "N = 10000\n",
    "r = 1.0\n",
    "count_inside = 0\n",
    "A_MC_list = []\n",
    "Iter_list = []\n",
    "for i in range(N):\n",
    "    x = numpy.random.uniform(-1, 1)\n",
    "    y = numpy.random.uniform(-1, 1)\n",
    "    dist = (x**2. + y**2.)**0.5\n",
    "    if dist < r:\n",
    "        count_inside = 1+count_inside\n",
    "    fraction = count_inside / (i+1) \n",
    "    A_MC = 4. * fraction\n",
    "    A_MC_list.append(A_MC)\n",
    "    Iter_list.append(i+1)\n",
    "    \n",
    "plt.plot(Iter_list, A_MC_list,'-')\n",
    "\n",
    "\n",
    "\n"
   ]
  },
  {
   "cell_type": "code",
   "execution_count": null,
   "id": "ddcb6f64",
   "metadata": {},
   "outputs": [],
   "source": []
  }
 ],
 "metadata": {
  "kernelspec": {
   "display_name": "Python 3 (ipykernel)",
   "language": "python",
   "name": "python3"
  },
  "language_info": {
   "codemirror_mode": {
    "name": "ipython",
    "version": 3
   },
   "file_extension": ".py",
   "mimetype": "text/x-python",
   "name": "python",
   "nbconvert_exporter": "python",
   "pygments_lexer": "ipython3",
   "version": "3.9.12"
  }
 },
 "nbformat": 4,
 "nbformat_minor": 5
}
