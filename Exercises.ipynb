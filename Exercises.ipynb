{
 "cells": [
  {
   "cell_type": "code",
   "execution_count": 11,
   "id": "b00d10c2",
   "metadata": {},
   "outputs": [
    {
     "name": "stdout",
     "output_type": "stream",
     "text": [
      "-0.10102051443364424\n",
      "-0.10102051443364381\n",
      "======\n",
      "-9.898979485566356\n",
      "-9.898979485566313\n"
     ]
    }
   ],
   "source": [
    "\n",
    "def FindQuadraticSolution(a,b,c):\n",
    "    x1 = (-b + (b**2. - 4.*a*c)**0.5)/(2. *a)\n",
    "    x2 = (-b - (b**2. - 4.*a*c)**0.5)/(2. *a)\n",
    "    x3 = -2. *c / (b + (b**2. - 4.*a*c)**0.5)\n",
    "    x4 = -2. *c / (b - (b**2. - 4.*a*c)**0.5)\n",
    "    return x1,x2,x3,x4\n",
    "\n",
    "#=====\n",
    "x1,x2,x3,x4 = FindQuadraticSolution(1.,10.,1.)\n",
    "\n",
    "print (x1)\n",
    "print (x3)\n",
    "print ('======')\n",
    "print (x2)\n",
    "print (x4)\n"
   ]
  },
  {
   "cell_type": "code",
   "execution_count": null,
   "id": "8f1e4e7d",
   "metadata": {},
   "outputs": [],
   "source": []
  }
 ],
 "metadata": {
  "kernelspec": {
   "display_name": "Python 3 (ipykernel)",
   "language": "python",
   "name": "python3"
  },
  "language_info": {
   "codemirror_mode": {
    "name": "ipython",
    "version": 3
   },
   "file_extension": ".py",
   "mimetype": "text/x-python",
   "name": "python",
   "nbconvert_exporter": "python",
   "pygments_lexer": "ipython3",
   "version": "3.9.12"
  }
 },
 "nbformat": 4,
 "nbformat_minor": 5
}
